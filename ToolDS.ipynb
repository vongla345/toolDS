{
  "nbformat": 4,
  "nbformat_minor": 0,
  "metadata": {
    "colab": {
      "provenance": []
    },
    "kernelspec": {
      "name": "python3",
      "display_name": "Python 3"
    },
    "language_info": {
      "name": "python"
    }
  },
  "cells": [
    {
      "cell_type": "markdown",
      "source": [
        "Tool for Data Science"
      ],
      "metadata": {
        "id": "5qQFviDIz05t"
      }
    },
    {
      "cell_type": "markdown",
      "source": [
        "This is a introduction for presenting tool in Data Science"
      ],
      "metadata": {
        "id": "jul6rgt10JUo"
      }
    },
    {
      "cell_type": "markdown",
      "source": [
        "List of data science language:\n",
        "+ Python\n",
        "+ SQL\n",
        "+ R\n",
        "+ Java"
      ],
      "metadata": {
        "id": "ll0-fD2D0fAo"
      }
    },
    {
      "cell_type": "markdown",
      "source": [
        "List data science libraries:\n",
        "+ TensorFlow\n",
        "+ Pandas\n",
        "+ numPy\n",
        "+ Keras"
      ],
      "metadata": {
        "id": "RgrsY8XD0uYy"
      }
    },
    {
      "cell_type": "code",
      "source": [
        "import pandas as pd\n",
        "\n",
        "data = {'Data Science Tools': ['Python', 'SQL','R','Git']}\n",
        "df = pd.DataFrame(data)\n",
        "\n",
        "df.to_csv('my_table.csv', index=False)\n",
        "\n",
        "print(df)"
      ],
      "metadata": {
        "colab": {
          "base_uri": "https://localhost:8080/"
        },
        "id": "AN-mHd2R0NpV",
        "outputId": "db8c3499-ecd7-453d-8790-25a39d537073"
      },
      "execution_count": null,
      "outputs": [
        {
          "output_type": "stream",
          "name": "stdout",
          "text": [
            "  Data Science Tools\n",
            "0             Python\n",
            "1                SQL\n",
            "2                  R\n",
            "3                Git\n"
          ]
        }
      ]
    },
    {
      "cell_type": "markdown",
      "source": [
        "Arithmetic expressions provide a fundamental way to represent mathematical operations and calculations using operators such as addition, subtraction, multiplication, and division, often involving variables and constants."
      ],
      "metadata": {
        "id": "7d9KyHZU1sOp"
      }
    },
    {
      "cell_type": "code",
      "source": [
        "x = 10\n",
        "y = 20\n",
        "z = x * y\n",
        "m = x + y\n",
        "print(z)\n",
        "print(m)"
      ],
      "metadata": {
        "colab": {
          "base_uri": "https://localhost:8080/"
        },
        "id": "WEBGhWQL19GW",
        "outputId": "bb10b072-909b-4933-9ae4-964b9167d8e3"
      },
      "execution_count": null,
      "outputs": [
        {
          "output_type": "stream",
          "name": "stdout",
          "text": [
            "200\n",
            "30\n"
          ]
        }
      ]
    },
    {
      "cell_type": "code",
      "source": [
        "minute = int(input())\n",
        "\n",
        "print(f\"Change to seconds: {minute*60}\")"
      ],
      "metadata": {
        "colab": {
          "base_uri": "https://localhost:8080/"
        },
        "id": "TIwdUX602N6i",
        "outputId": "26f7daeb-9128-4930-aa14-cd4d74e8aee2"
      },
      "execution_count": null,
      "outputs": [
        {
          "output_type": "stream",
          "name": "stdout",
          "text": [
            "20\n",
            "Change to seconds: 1200\n"
          ]
        }
      ]
    },
    {
      "cell_type": "markdown",
      "source": [
        "Objective\n"
      ],
      "metadata": {
        "id": "-MAEdH2q3LA_"
      }
    },
    {
      "cell_type": "markdown",
      "source": [
        "P.H.Nhan"
      ],
      "metadata": {
        "id": "9y65-IJW3VEr"
      }
    }
  ]
}